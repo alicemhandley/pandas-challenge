{
 "cells": [
  {
   "cell_type": "markdown",
   "metadata": {},
   "source": [
    "### Note\n",
    "* Instructions have been included for each segment. You do not have to follow them exactly, but they are included to help you think through the steps."
   ]
  },
  {
   "cell_type": "code",
   "execution_count": 1,
   "metadata": {},
   "outputs": [],
   "source": [
    "# Dependencies and Setup\n",
    "import pandas as pd\n",
    "from pathlib import Path\n",
    "\n",
    "# File to Load (Remember to Change These)\n",
    "school_data_to_load = Path(\"../Resources/schools_complete.csv\")\n",
    "student_data_to_load = Path(\"../Resources/students_complete.csv\")\n",
    "\n",
    "# Read School and Student Data File and store into Pandas DataFrames\n",
    "school_data = pd.read_csv(school_data_to_load)\n",
    "student_data = pd.read_csv(student_data_to_load)\n",
    "\n",
    "# Combine the data into a single dataset.  \n",
    "school_data_complete = pd.merge(student_data, school_data, how=\"left\", on=[\"school_name\", \"school_name\"])"
   ]
  },
  {
   "cell_type": "markdown",
   "metadata": {},
   "source": [
    "## Local Government Area Summary\n",
    "\n",
    "* Calculate the total number of schools\n",
    "\n",
    "* Calculate the total number of students\n",
    "\n",
    "* Calculate the total budget\n",
    "\n",
    "* Calculate the average maths score \n",
    "\n",
    "* Calculate the average reading score\n",
    "\n",
    "* Calculate the percentage of students with a passing maths score (50 or greater)\n",
    "\n",
    "* Calculate the percentage of students with a passing reading score (50 or greater)\n",
    "\n",
    "* Calculate the percentage of students who passed maths **and** reading (% Overall Passing)\n",
    "\n",
    "* Create a dataframe to hold the above results\n",
    "\n",
    "* Optional: give the displayed data cleaner formatting"
   ]
  },
  {
   "cell_type": "code",
   "execution_count": 2,
   "metadata": {},
   "outputs": [
    {
     "data": {
      "text/plain": [
       "15"
      ]
     },
     "execution_count": 2,
     "metadata": {},
     "output_type": "execute_result"
    }
   ],
   "source": [
    "# Calculate the total number of schools\n",
    "school_name=school_data_complete['school_name'].unique()\n",
    "total_school_number=len(school_name)\n",
    "total_school_number"
   ]
  },
  {
   "cell_type": "code",
   "execution_count": 3,
   "metadata": {},
   "outputs": [
    {
     "data": {
      "text/plain": [
       "39170"
      ]
     },
     "execution_count": 3,
     "metadata": {},
     "output_type": "execute_result"
    }
   ],
   "source": [
    "# Calculate the total number of students\n",
    "total_students=school_data_complete[\"student_name\"].count()\n",
    "total_students"
   ]
  },
  {
   "cell_type": "code",
   "execution_count": 4,
   "metadata": {},
   "outputs": [
    {
     "data": {
      "text/plain": [
       "24649428"
      ]
     },
     "execution_count": 4,
     "metadata": {},
     "output_type": "execute_result"
    }
   ],
   "source": [
    "# Calculate the total budget\n",
    "total_budget = school_data[\"budget\"].sum()\n",
    "total_budget"
   ]
  },
  {
   "cell_type": "code",
   "execution_count": 5,
   "metadata": {},
   "outputs": [
    {
     "data": {
      "text/plain": [
       "70.33819249425581"
      ]
     },
     "execution_count": 5,
     "metadata": {},
     "output_type": "execute_result"
    }
   ],
   "source": [
    "# Calculate the average maths score \n",
    "average_maths_score = school_data_complete[\"maths_score\"].mean()\n",
    "average_maths_score"
   ]
  },
  {
   "cell_type": "code",
   "execution_count": 6,
   "metadata": {},
   "outputs": [
    {
     "data": {
      "text/plain": [
       "69.98013786060761"
      ]
     },
     "execution_count": 6,
     "metadata": {},
     "output_type": "execute_result"
    }
   ],
   "source": [
    "# Calculate the average reading score\n",
    "average_reading_score = school_data_complete[\"reading_score\"].mean()\n",
    "average_reading_score"
   ]
  },
  {
   "cell_type": "code",
   "execution_count": 7,
   "metadata": {},
   "outputs": [
    {
     "data": {
      "text/plain": [
       "86.07863160582077"
      ]
     },
     "execution_count": 7,
     "metadata": {},
     "output_type": "execute_result"
    }
   ],
   "source": [
    "# Calculate the percentage of students with a passing maths score (50 or greater)\n",
    "students_passing_maths = school_data_complete.loc[school_data_complete[\"maths_score\"] >= 50]\n",
    "number_students_passing_maths = students_passing_maths[\"Student ID\"].count()\n",
    "\n",
    "percentage_passing_maths = (number_students_passing_maths / total_students) * 100\n",
    "\n",
    "percentage_passing_maths"
   ]
  },
  {
   "cell_type": "code",
   "execution_count": 8,
   "metadata": {},
   "outputs": [
    {
     "data": {
      "text/plain": [
       "84.42685728874139"
      ]
     },
     "execution_count": 8,
     "metadata": {},
     "output_type": "execute_result"
    }
   ],
   "source": [
    "# Calculate the percentage of students with a passing reading score (50 or greater)\n",
    "students_passing_reading = school_data_complete.loc[school_data_complete[\"reading_score\"] >= 50]\n",
    "number_students_passing_reading = students_passing_reading[\"Student ID\"].count()\n",
    "\n",
    "percentage_passing_reading = (number_students_passing_reading / total_students) * 100\n",
    "percentage_passing_reading"
   ]
  },
  {
   "cell_type": "code",
   "execution_count": 9,
   "metadata": {},
   "outputs": [
    {
     "data": {
      "text/plain": [
       "72.80827163645647"
      ]
     },
     "execution_count": 9,
     "metadata": {},
     "output_type": "execute_result"
    }
   ],
   "source": [
    "# Calculate the percentage of students who passed maths **and** reading (% Overall Passing)\n",
    "Overall_passing = school_data_complete[(school_data_complete['maths_score'] >= 50) & (school_data_complete['reading_score'] >= 50)]['Student ID'].count()/total_students*100\n",
    "Overall_passing\n"
   ]
  },
  {
   "cell_type": "code",
   "execution_count": 10,
   "metadata": {},
   "outputs": [
    {
     "data": {
      "text/html": [
       "<div>\n",
       "<style scoped>\n",
       "    .dataframe tbody tr th:only-of-type {\n",
       "        vertical-align: middle;\n",
       "    }\n",
       "\n",
       "    .dataframe tbody tr th {\n",
       "        vertical-align: top;\n",
       "    }\n",
       "\n",
       "    .dataframe thead th {\n",
       "        text-align: right;\n",
       "    }\n",
       "</style>\n",
       "<table border=\"1\" class=\"dataframe\">\n",
       "  <thead>\n",
       "    <tr style=\"text-align: right;\">\n",
       "      <th></th>\n",
       "      <th>Total Schools</th>\n",
       "      <th>Total Students</th>\n",
       "      <th>Total Budget</th>\n",
       "      <th>Average Maths Score</th>\n",
       "      <th>Average Reading Score</th>\n",
       "      <th>% Passing Maths</th>\n",
       "      <th>% Passing Reading</th>\n",
       "      <th>% Overall Passing</th>\n",
       "    </tr>\n",
       "  </thead>\n",
       "  <tbody>\n",
       "    <tr>\n",
       "      <th>0</th>\n",
       "      <td>15</td>\n",
       "      <td>39,170</td>\n",
       "      <td>$24,649,428.00</td>\n",
       "      <td>70.338192</td>\n",
       "      <td>69.98014</td>\n",
       "      <td>86.078632</td>\n",
       "      <td>84.426857</td>\n",
       "      <td>72.808272</td>\n",
       "    </tr>\n",
       "  </tbody>\n",
       "</table>\n",
       "</div>"
      ],
      "text/plain": [
       "   Total Schools Total Students    Total Budget Average Maths Score  \\\n",
       "0             15         39,170  $24,649,428.00           70.338192   \n",
       "\n",
       "  Average Reading Score % Passing Maths % Passing Reading % Overall Passing  \n",
       "0              69.98014       86.078632         84.426857         72.808272  "
      ]
     },
     "execution_count": 10,
     "metadata": {},
     "output_type": "execute_result"
    }
   ],
   "source": [
    "# Create a dataframe to hold the above results\n",
    "local_government_area_summary = pd.DataFrame({\n",
    "    \"Total Schools\": total_school_number,\n",
    "    \"Total Students\": f\"{total_students:,}\",\n",
    "    \"Total Budget\": f\"${total_budget:,.2f}\",\n",
    "    \"Average Maths Score\": f\"{average_maths_score:.6f}\",\n",
    "    \"Average Reading Score\": f\"{average_reading_score:.5f}\",\n",
    "    \"% Passing Maths\": f\"{percentage_passing_maths:.6f}\",\n",
    "    \"% Passing Reading\": f\"{percentage_passing_reading:.6f}\",\n",
    "    \"% Overall Passing\": f\"{Overall_passing: .6f}\"\n",
    "}, index=[0])\n",
    "\n",
    "local_government_area_summary"
   ]
  },
  {
   "cell_type": "code",
   "execution_count": null,
   "metadata": {},
   "outputs": [],
   "source": []
  },
  {
   "cell_type": "markdown",
   "metadata": {},
   "source": [
    "## School Summary"
   ]
  },
  {
   "cell_type": "markdown",
   "metadata": {},
   "source": [
    "* Create an overview table that summarises key metrics about each school, including:\n",
    "  * School Name\n",
    "  * School Type\n",
    "  * Total Students\n",
    "  * Total School Budget\n",
    "  * Per Student Budget\n",
    "  * Average Maths Score\n",
    "  * Average Reading Score\n",
    "  * % Passing Maths\n",
    "  * % Passing Reading\n",
    "  * % Overall Passing (The percentage of students that passed maths **and** reading.)\n",
    "  \n",
    "* Create a dataframe to hold the above results"
   ]
  },
  {
   "cell_type": "code",
   "execution_count": 11,
   "metadata": {},
   "outputs": [],
   "source": [
    "# School Name (group)\n",
    "school_name = school_data_complete.set_index('school_name').groupby(['school_name'])\n"
   ]
  },
  {
   "cell_type": "code",
   "execution_count": 12,
   "metadata": {},
   "outputs": [],
   "source": [
    "# School Type\n",
    "school_type = school_data.set_index('school_name')['type']\n"
   ]
  },
  {
   "cell_type": "code",
   "execution_count": 13,
   "metadata": {},
   "outputs": [],
   "source": [
    "# Calculate total students per school\n",
    "total_student = school_name['Student ID'].count()\n"
   ]
  },
  {
   "cell_type": "code",
   "execution_count": 14,
   "metadata": {},
   "outputs": [],
   "source": [
    "# Calculate total school budget\n",
    "total_school_budget = school_data.set_index('school_name')['budget']\n",
    "\n"
   ]
  },
  {
   "cell_type": "code",
   "execution_count": 15,
   "metadata": {},
   "outputs": [],
   "source": [
    "# Calculate budget per student\n",
    "budget_per_student = (school_data.set_index('school_name')['budget']/school_data.set_index('school_name')['size'])\n"
   ]
  },
  {
   "cell_type": "code",
   "execution_count": 16,
   "metadata": {},
   "outputs": [],
   "source": [
    "# Calculate Average Maths Score\n",
    "\n",
    "average_maths_score = school_name['maths_score'].mean() \n"
   ]
  },
  {
   "cell_type": "code",
   "execution_count": 17,
   "metadata": {},
   "outputs": [],
   "source": [
    "# Calculate Average Reading Score\n",
    "average_reading_score = school_name['reading_score'].mean()"
   ]
  },
  {
   "cell_type": "code",
   "execution_count": 18,
   "metadata": {},
   "outputs": [],
   "source": [
    "# Calculate % Passing Maths\n",
    "pass_maths_percent = school_data_complete[school_data_complete['maths_score'] >= 50].groupby('school_name')['Student ID'].count()/total_student*100\n"
   ]
  },
  {
   "cell_type": "code",
   "execution_count": 19,
   "metadata": {},
   "outputs": [],
   "source": [
    "# Calculate % Passing Reading\n",
    "pass_read_percent = school_data_complete[school_data_complete['reading_score'] >= 50].groupby('school_name')['Student ID'].count()/total_student*100\n"
   ]
  },
  {
   "cell_type": "code",
   "execution_count": 20,
   "metadata": {},
   "outputs": [],
   "source": [
    "# Calculate % Overall Passing (The percentage of students that passed maths **and** reading.)\n",
    "overall_pass = school_data_complete[(school_data_complete['reading_score'] >= 50) & (school_data_complete['maths_score'] >= 50)].groupby('school_name')['Student ID'].count()/total_student*100\n"
   ]
  },
  {
   "cell_type": "code",
   "execution_count": 21,
   "metadata": {},
   "outputs": [
    {
     "data": {
      "text/html": [
       "<style type=\"text/css\">\n",
       "</style>\n",
       "<table id=\"T_bb6fc\">\n",
       "  <thead>\n",
       "    <tr>\n",
       "      <th class=\"blank level0\" >&nbsp;</th>\n",
       "      <th id=\"T_bb6fc_level0_col0\" class=\"col_heading level0 col0\" >School Type</th>\n",
       "      <th id=\"T_bb6fc_level0_col1\" class=\"col_heading level0 col1\" >Total Students</th>\n",
       "      <th id=\"T_bb6fc_level0_col2\" class=\"col_heading level0 col2\" >Total School Budget</th>\n",
       "      <th id=\"T_bb6fc_level0_col3\" class=\"col_heading level0 col3\" >Per Student Budget</th>\n",
       "      <th id=\"T_bb6fc_level0_col4\" class=\"col_heading level0 col4\" >Average Maths Score</th>\n",
       "      <th id=\"T_bb6fc_level0_col5\" class=\"col_heading level0 col5\" >Average Reading Score</th>\n",
       "      <th id=\"T_bb6fc_level0_col6\" class=\"col_heading level0 col6\" >% Passing Maths</th>\n",
       "      <th id=\"T_bb6fc_level0_col7\" class=\"col_heading level0 col7\" >% Passing Reading</th>\n",
       "      <th id=\"T_bb6fc_level0_col8\" class=\"col_heading level0 col8\" >% Overall Passing</th>\n",
       "    </tr>\n",
       "    <tr>\n",
       "      <th class=\"index_name level0\" >school_name</th>\n",
       "      <th class=\"blank col0\" >&nbsp;</th>\n",
       "      <th class=\"blank col1\" >&nbsp;</th>\n",
       "      <th class=\"blank col2\" >&nbsp;</th>\n",
       "      <th class=\"blank col3\" >&nbsp;</th>\n",
       "      <th class=\"blank col4\" >&nbsp;</th>\n",
       "      <th class=\"blank col5\" >&nbsp;</th>\n",
       "      <th class=\"blank col6\" >&nbsp;</th>\n",
       "      <th class=\"blank col7\" >&nbsp;</th>\n",
       "      <th class=\"blank col8\" >&nbsp;</th>\n",
       "    </tr>\n",
       "  </thead>\n",
       "  <tbody>\n",
       "    <tr>\n",
       "      <th id=\"T_bb6fc_level0_row0\" class=\"row_heading level0 row0\" >Bailey High School</th>\n",
       "      <td id=\"T_bb6fc_row0_col0\" class=\"data row0 col0\" >Government</td>\n",
       "      <td id=\"T_bb6fc_row0_col1\" class=\"data row0 col1\" >4976</td>\n",
       "      <td id=\"T_bb6fc_row0_col2\" class=\"data row0 col2\" >$3,124,928.00</td>\n",
       "      <td id=\"T_bb6fc_row0_col3\" class=\"data row0 col3\" >$628.00</td>\n",
       "      <td id=\"T_bb6fc_row0_col4\" class=\"data row0 col4\" >72.352894</td>\n",
       "      <td id=\"T_bb6fc_row0_col5\" class=\"data row0 col5\" >71.008842</td>\n",
       "      <td id=\"T_bb6fc_row0_col6\" class=\"data row0 col6\" >91.639871</td>\n",
       "      <td id=\"T_bb6fc_row0_col7\" class=\"data row0 col7\" >87.379421</td>\n",
       "      <td id=\"T_bb6fc_row0_col8\" class=\"data row0 col8\" >80.084405</td>\n",
       "    </tr>\n",
       "    <tr>\n",
       "      <th id=\"T_bb6fc_level0_row1\" class=\"row_heading level0 row1\" >Cabrera High School</th>\n",
       "      <td id=\"T_bb6fc_row1_col0\" class=\"data row1 col0\" >Independent</td>\n",
       "      <td id=\"T_bb6fc_row1_col1\" class=\"data row1 col1\" >1858</td>\n",
       "      <td id=\"T_bb6fc_row1_col2\" class=\"data row1 col2\" >$1,081,356.00</td>\n",
       "      <td id=\"T_bb6fc_row1_col3\" class=\"data row1 col3\" >$582.00</td>\n",
       "      <td id=\"T_bb6fc_row1_col4\" class=\"data row1 col4\" >71.657158</td>\n",
       "      <td id=\"T_bb6fc_row1_col5\" class=\"data row1 col5\" >71.359526</td>\n",
       "      <td id=\"T_bb6fc_row1_col6\" class=\"data row1 col6\" >90.850377</td>\n",
       "      <td id=\"T_bb6fc_row1_col7\" class=\"data row1 col7\" >89.074273</td>\n",
       "      <td id=\"T_bb6fc_row1_col8\" class=\"data row1 col8\" >80.785791</td>\n",
       "    </tr>\n",
       "    <tr>\n",
       "      <th id=\"T_bb6fc_level0_row2\" class=\"row_heading level0 row2\" >Figueroa High School</th>\n",
       "      <td id=\"T_bb6fc_row2_col0\" class=\"data row2 col0\" >Government</td>\n",
       "      <td id=\"T_bb6fc_row2_col1\" class=\"data row2 col1\" >2949</td>\n",
       "      <td id=\"T_bb6fc_row2_col2\" class=\"data row2 col2\" >$1,884,411.00</td>\n",
       "      <td id=\"T_bb6fc_row2_col3\" class=\"data row2 col3\" >$639.00</td>\n",
       "      <td id=\"T_bb6fc_row2_col4\" class=\"data row2 col4\" >68.698542</td>\n",
       "      <td id=\"T_bb6fc_row2_col5\" class=\"data row2 col5\" >69.077993</td>\n",
       "      <td id=\"T_bb6fc_row2_col6\" class=\"data row2 col6\" >81.654798</td>\n",
       "      <td id=\"T_bb6fc_row2_col7\" class=\"data row2 col7\" >82.807731</td>\n",
       "      <td id=\"T_bb6fc_row2_col8\" class=\"data row2 col8\" >67.650051</td>\n",
       "    </tr>\n",
       "    <tr>\n",
       "      <th id=\"T_bb6fc_level0_row3\" class=\"row_heading level0 row3\" >Ford High School</th>\n",
       "      <td id=\"T_bb6fc_row3_col0\" class=\"data row3 col0\" >Government</td>\n",
       "      <td id=\"T_bb6fc_row3_col1\" class=\"data row3 col1\" >2739</td>\n",
       "      <td id=\"T_bb6fc_row3_col2\" class=\"data row3 col2\" >$1,763,916.00</td>\n",
       "      <td id=\"T_bb6fc_row3_col3\" class=\"data row3 col3\" >$644.00</td>\n",
       "      <td id=\"T_bb6fc_row3_col4\" class=\"data row3 col4\" >69.091274</td>\n",
       "      <td id=\"T_bb6fc_row3_col5\" class=\"data row3 col5\" >69.572472</td>\n",
       "      <td id=\"T_bb6fc_row3_col6\" class=\"data row3 col6\" >82.438846</td>\n",
       "      <td id=\"T_bb6fc_row3_col7\" class=\"data row3 col7\" >82.219788</td>\n",
       "      <td id=\"T_bb6fc_row3_col8\" class=\"data row3 col8\" >67.469880</td>\n",
       "    </tr>\n",
       "    <tr>\n",
       "      <th id=\"T_bb6fc_level0_row4\" class=\"row_heading level0 row4\" >Griffin High School</th>\n",
       "      <td id=\"T_bb6fc_row4_col0\" class=\"data row4 col0\" >Independent</td>\n",
       "      <td id=\"T_bb6fc_row4_col1\" class=\"data row4 col1\" >1468</td>\n",
       "      <td id=\"T_bb6fc_row4_col2\" class=\"data row4 col2\" >$917,500.00</td>\n",
       "      <td id=\"T_bb6fc_row4_col3\" class=\"data row4 col3\" >$625.00</td>\n",
       "      <td id=\"T_bb6fc_row4_col4\" class=\"data row4 col4\" >71.788147</td>\n",
       "      <td id=\"T_bb6fc_row4_col5\" class=\"data row4 col5\" >71.245232</td>\n",
       "      <td id=\"T_bb6fc_row4_col6\" class=\"data row4 col6\" >91.212534</td>\n",
       "      <td id=\"T_bb6fc_row4_col7\" class=\"data row4 col7\" >88.487738</td>\n",
       "      <td id=\"T_bb6fc_row4_col8\" class=\"data row4 col8\" >81.335150</td>\n",
       "    </tr>\n",
       "    <tr>\n",
       "      <th id=\"T_bb6fc_level0_row5\" class=\"row_heading level0 row5\" >Hernandez High School</th>\n",
       "      <td id=\"T_bb6fc_row5_col0\" class=\"data row5 col0\" >Government</td>\n",
       "      <td id=\"T_bb6fc_row5_col1\" class=\"data row5 col1\" >4635</td>\n",
       "      <td id=\"T_bb6fc_row5_col2\" class=\"data row5 col2\" >$3,022,020.00</td>\n",
       "      <td id=\"T_bb6fc_row5_col3\" class=\"data row5 col3\" >$652.00</td>\n",
       "      <td id=\"T_bb6fc_row5_col4\" class=\"data row5 col4\" >68.874865</td>\n",
       "      <td id=\"T_bb6fc_row5_col5\" class=\"data row5 col5\" >69.186408</td>\n",
       "      <td id=\"T_bb6fc_row5_col6\" class=\"data row5 col6\" >80.949299</td>\n",
       "      <td id=\"T_bb6fc_row5_col7\" class=\"data row5 col7\" >81.877023</td>\n",
       "      <td id=\"T_bb6fc_row5_col8\" class=\"data row5 col8\" >66.364617</td>\n",
       "    </tr>\n",
       "    <tr>\n",
       "      <th id=\"T_bb6fc_level0_row6\" class=\"row_heading level0 row6\" >Holden High School</th>\n",
       "      <td id=\"T_bb6fc_row6_col0\" class=\"data row6 col0\" >Independent</td>\n",
       "      <td id=\"T_bb6fc_row6_col1\" class=\"data row6 col1\" >427</td>\n",
       "      <td id=\"T_bb6fc_row6_col2\" class=\"data row6 col2\" >$248,087.00</td>\n",
       "      <td id=\"T_bb6fc_row6_col3\" class=\"data row6 col3\" >$581.00</td>\n",
       "      <td id=\"T_bb6fc_row6_col4\" class=\"data row6 col4\" >72.583138</td>\n",
       "      <td id=\"T_bb6fc_row6_col5\" class=\"data row6 col5\" >71.660422</td>\n",
       "      <td id=\"T_bb6fc_row6_col6\" class=\"data row6 col6\" >89.929742</td>\n",
       "      <td id=\"T_bb6fc_row6_col7\" class=\"data row6 col7\" >88.524590</td>\n",
       "      <td id=\"T_bb6fc_row6_col8\" class=\"data row6 col8\" >78.922717</td>\n",
       "    </tr>\n",
       "    <tr>\n",
       "      <th id=\"T_bb6fc_level0_row7\" class=\"row_heading level0 row7\" >Huang High School</th>\n",
       "      <td id=\"T_bb6fc_row7_col0\" class=\"data row7 col0\" >Government</td>\n",
       "      <td id=\"T_bb6fc_row7_col1\" class=\"data row7 col1\" >2917</td>\n",
       "      <td id=\"T_bb6fc_row7_col2\" class=\"data row7 col2\" >$1,910,635.00</td>\n",
       "      <td id=\"T_bb6fc_row7_col3\" class=\"data row7 col3\" >$655.00</td>\n",
       "      <td id=\"T_bb6fc_row7_col4\" class=\"data row7 col4\" >68.935207</td>\n",
       "      <td id=\"T_bb6fc_row7_col5\" class=\"data row7 col5\" >68.910525</td>\n",
       "      <td id=\"T_bb6fc_row7_col6\" class=\"data row7 col6\" >81.693521</td>\n",
       "      <td id=\"T_bb6fc_row7_col7\" class=\"data row7 col7\" >81.453548</td>\n",
       "      <td id=\"T_bb6fc_row7_col8\" class=\"data row7 col8\" >66.712376</td>\n",
       "    </tr>\n",
       "    <tr>\n",
       "      <th id=\"T_bb6fc_level0_row8\" class=\"row_heading level0 row8\" >Johnson High School</th>\n",
       "      <td id=\"T_bb6fc_row8_col0\" class=\"data row8 col0\" >Government</td>\n",
       "      <td id=\"T_bb6fc_row8_col1\" class=\"data row8 col1\" >4761</td>\n",
       "      <td id=\"T_bb6fc_row8_col2\" class=\"data row8 col2\" >$3,094,650.00</td>\n",
       "      <td id=\"T_bb6fc_row8_col3\" class=\"data row8 col3\" >$650.00</td>\n",
       "      <td id=\"T_bb6fc_row8_col4\" class=\"data row8 col4\" >68.843100</td>\n",
       "      <td id=\"T_bb6fc_row8_col5\" class=\"data row8 col5\" >69.039277</td>\n",
       "      <td id=\"T_bb6fc_row8_col6\" class=\"data row8 col6\" >82.062592</td>\n",
       "      <td id=\"T_bb6fc_row8_col7\" class=\"data row8 col7\" >81.978576</td>\n",
       "      <td id=\"T_bb6fc_row8_col8\" class=\"data row8 col8\" >67.191766</td>\n",
       "    </tr>\n",
       "    <tr>\n",
       "      <th id=\"T_bb6fc_level0_row9\" class=\"row_heading level0 row9\" >Pena High School</th>\n",
       "      <td id=\"T_bb6fc_row9_col0\" class=\"data row9 col0\" >Independent</td>\n",
       "      <td id=\"T_bb6fc_row9_col1\" class=\"data row9 col1\" >962</td>\n",
       "      <td id=\"T_bb6fc_row9_col2\" class=\"data row9 col2\" >$585,858.00</td>\n",
       "      <td id=\"T_bb6fc_row9_col3\" class=\"data row9 col3\" >$609.00</td>\n",
       "      <td id=\"T_bb6fc_row9_col4\" class=\"data row9 col4\" >72.088358</td>\n",
       "      <td id=\"T_bb6fc_row9_col5\" class=\"data row9 col5\" >71.613306</td>\n",
       "      <td id=\"T_bb6fc_row9_col6\" class=\"data row9 col6\" >91.683992</td>\n",
       "      <td id=\"T_bb6fc_row9_col7\" class=\"data row9 col7\" >86.590437</td>\n",
       "      <td id=\"T_bb6fc_row9_col8\" class=\"data row9 col8\" >79.209979</td>\n",
       "    </tr>\n",
       "    <tr>\n",
       "      <th id=\"T_bb6fc_level0_row10\" class=\"row_heading level0 row10\" >Rodriguez High School</th>\n",
       "      <td id=\"T_bb6fc_row10_col0\" class=\"data row10 col0\" >Government</td>\n",
       "      <td id=\"T_bb6fc_row10_col1\" class=\"data row10 col1\" >3999</td>\n",
       "      <td id=\"T_bb6fc_row10_col2\" class=\"data row10 col2\" >$2,547,363.00</td>\n",
       "      <td id=\"T_bb6fc_row10_col3\" class=\"data row10 col3\" >$637.00</td>\n",
       "      <td id=\"T_bb6fc_row10_col4\" class=\"data row10 col4\" >72.047762</td>\n",
       "      <td id=\"T_bb6fc_row10_col5\" class=\"data row10 col5\" >70.935984</td>\n",
       "      <td id=\"T_bb6fc_row10_col6\" class=\"data row10 col6\" >90.797699</td>\n",
       "      <td id=\"T_bb6fc_row10_col7\" class=\"data row10 col7\" >87.396849</td>\n",
       "      <td id=\"T_bb6fc_row10_col8\" class=\"data row10 col8\" >79.419855</td>\n",
       "    </tr>\n",
       "    <tr>\n",
       "      <th id=\"T_bb6fc_level0_row11\" class=\"row_heading level0 row11\" >Shelton High School</th>\n",
       "      <td id=\"T_bb6fc_row11_col0\" class=\"data row11 col0\" >Independent</td>\n",
       "      <td id=\"T_bb6fc_row11_col1\" class=\"data row11 col1\" >1761</td>\n",
       "      <td id=\"T_bb6fc_row11_col2\" class=\"data row11 col2\" >$1,056,600.00</td>\n",
       "      <td id=\"T_bb6fc_row11_col3\" class=\"data row11 col3\" >$600.00</td>\n",
       "      <td id=\"T_bb6fc_row11_col4\" class=\"data row11 col4\" >72.034072</td>\n",
       "      <td id=\"T_bb6fc_row11_col5\" class=\"data row11 col5\" >70.257808</td>\n",
       "      <td id=\"T_bb6fc_row11_col6\" class=\"data row11 col6\" >91.538898</td>\n",
       "      <td id=\"T_bb6fc_row11_col7\" class=\"data row11 col7\" >86.712095</td>\n",
       "      <td id=\"T_bb6fc_row11_col8\" class=\"data row11 col8\" >78.875639</td>\n",
       "    </tr>\n",
       "    <tr>\n",
       "      <th id=\"T_bb6fc_level0_row12\" class=\"row_heading level0 row12\" >Thomas High School</th>\n",
       "      <td id=\"T_bb6fc_row12_col0\" class=\"data row12 col0\" >Independent</td>\n",
       "      <td id=\"T_bb6fc_row12_col1\" class=\"data row12 col1\" >1635</td>\n",
       "      <td id=\"T_bb6fc_row12_col2\" class=\"data row12 col2\" >$1,043,130.00</td>\n",
       "      <td id=\"T_bb6fc_row12_col3\" class=\"data row12 col3\" >$638.00</td>\n",
       "      <td id=\"T_bb6fc_row12_col4\" class=\"data row12 col4\" >69.581651</td>\n",
       "      <td id=\"T_bb6fc_row12_col5\" class=\"data row12 col5\" >69.768807</td>\n",
       "      <td id=\"T_bb6fc_row12_col6\" class=\"data row12 col6\" >83.853211</td>\n",
       "      <td id=\"T_bb6fc_row12_col7\" class=\"data row12 col7\" >82.629969</td>\n",
       "      <td id=\"T_bb6fc_row12_col8\" class=\"data row12 col8\" >69.480122</td>\n",
       "    </tr>\n",
       "    <tr>\n",
       "      <th id=\"T_bb6fc_level0_row13\" class=\"row_heading level0 row13\" >Wilson High School</th>\n",
       "      <td id=\"T_bb6fc_row13_col0\" class=\"data row13 col0\" >Independent</td>\n",
       "      <td id=\"T_bb6fc_row13_col1\" class=\"data row13 col1\" >2283</td>\n",
       "      <td id=\"T_bb6fc_row13_col2\" class=\"data row13 col2\" >$1,319,574.00</td>\n",
       "      <td id=\"T_bb6fc_row13_col3\" class=\"data row13 col3\" >$578.00</td>\n",
       "      <td id=\"T_bb6fc_row13_col4\" class=\"data row13 col4\" >69.170828</td>\n",
       "      <td id=\"T_bb6fc_row13_col5\" class=\"data row13 col5\" >68.876916</td>\n",
       "      <td id=\"T_bb6fc_row13_col6\" class=\"data row13 col6\" >82.785808</td>\n",
       "      <td id=\"T_bb6fc_row13_col7\" class=\"data row13 col7\" >81.296540</td>\n",
       "      <td id=\"T_bb6fc_row13_col8\" class=\"data row13 col8\" >67.455103</td>\n",
       "    </tr>\n",
       "    <tr>\n",
       "      <th id=\"T_bb6fc_level0_row14\" class=\"row_heading level0 row14\" >Wright High School</th>\n",
       "      <td id=\"T_bb6fc_row14_col0\" class=\"data row14 col0\" >Independent</td>\n",
       "      <td id=\"T_bb6fc_row14_col1\" class=\"data row14 col1\" >1800</td>\n",
       "      <td id=\"T_bb6fc_row14_col2\" class=\"data row14 col2\" >$1,049,400.00</td>\n",
       "      <td id=\"T_bb6fc_row14_col3\" class=\"data row14 col3\" >$583.00</td>\n",
       "      <td id=\"T_bb6fc_row14_col4\" class=\"data row14 col4\" >72.047222</td>\n",
       "      <td id=\"T_bb6fc_row14_col5\" class=\"data row14 col5\" >70.969444</td>\n",
       "      <td id=\"T_bb6fc_row14_col6\" class=\"data row14 col6\" >91.777778</td>\n",
       "      <td id=\"T_bb6fc_row14_col7\" class=\"data row14 col7\" >86.666667</td>\n",
       "      <td id=\"T_bb6fc_row14_col8\" class=\"data row14 col8\" >79.722222</td>\n",
       "    </tr>\n",
       "  </tbody>\n",
       "</table>\n"
      ],
      "text/plain": [
       "<pandas.io.formats.style.Styler at 0x12fce2350>"
      ]
     },
     "execution_count": 21,
     "metadata": {},
     "output_type": "execute_result"
    }
   ],
   "source": [
    "# Create a dataframe to hold the above results & format \n",
    "\n",
    "per_school_summary = pd.DataFrame({\n",
    "    \"School Type\": school_type,\n",
    "    \"Total Students\": total_student,\n",
    "    \"Per Student Budget\": budget_per_student,\n",
    "    \"Total School Budget\": total_school_budget,\n",
    "    \"Average Maths Score\": average_maths_score,\n",
    "    \"Average Reading Score\": average_reading_score,\n",
    "    '% Passing Maths': pass_maths_percent,\n",
    "    '% Passing Reading': pass_read_percent,\n",
    "    \"% Overall Passing\": overall_pass\n",
    "})\n",
    "\n",
    "\n",
    "#munging\n",
    "school_summary = per_school_summary[['School Type', \n",
    "                          'Total Students', \n",
    "                          'Total School Budget', \n",
    "                          'Per Student Budget', \n",
    "                          'Average Maths Score', \n",
    "                          'Average Reading Score',\n",
    "                          '% Passing Maths',\n",
    "                          '% Passing Reading',\n",
    "                          '% Overall Passing']]\n",
    "\n",
    "\n",
    "#formatting\n",
    "school_summary.style.format({'Total Students': '{:}',\n",
    "                          \"Total School Budget\": \"${:,.2f}\",\n",
    "                          \"Per Student Budget\": \"${:.2f}\",\n",
    "                          'Average Maths Score': \"{:6f}\", \n",
    "                          'Average Reading Score': \"{:2f}\", \n",
    "                          \"% Passing Maths\": \"{:2f}\", \n",
    "                          \"% Passing Reading\": \"{:2f}\"})"
   ]
  },
  {
   "cell_type": "code",
   "execution_count": null,
   "metadata": {},
   "outputs": [],
   "source": []
  },
  {
   "cell_type": "markdown",
   "metadata": {},
   "source": [
    "## Top Performing Schools (By % Overall Passing)"
   ]
  },
  {
   "cell_type": "markdown",
   "metadata": {},
   "source": [
    "* Sort and display the top five performing schools by % overall passing."
   ]
  },
  {
   "cell_type": "code",
   "execution_count": 22,
   "metadata": {
    "scrolled": true
   },
   "outputs": [
    {
     "data": {
      "text/html": [
       "<style type=\"text/css\">\n",
       "</style>\n",
       "<table id=\"T_c3a72\">\n",
       "  <thead>\n",
       "    <tr>\n",
       "      <th class=\"blank level0\" >&nbsp;</th>\n",
       "      <th id=\"T_c3a72_level0_col0\" class=\"col_heading level0 col0\" >School Type</th>\n",
       "      <th id=\"T_c3a72_level0_col1\" class=\"col_heading level0 col1\" >Total Students</th>\n",
       "      <th id=\"T_c3a72_level0_col2\" class=\"col_heading level0 col2\" >Total School Budget</th>\n",
       "      <th id=\"T_c3a72_level0_col3\" class=\"col_heading level0 col3\" >Per Student Budget</th>\n",
       "      <th id=\"T_c3a72_level0_col4\" class=\"col_heading level0 col4\" >Average Maths Score</th>\n",
       "      <th id=\"T_c3a72_level0_col5\" class=\"col_heading level0 col5\" >Average Reading Score</th>\n",
       "      <th id=\"T_c3a72_level0_col6\" class=\"col_heading level0 col6\" >% Passing Maths</th>\n",
       "      <th id=\"T_c3a72_level0_col7\" class=\"col_heading level0 col7\" >% Passing Reading</th>\n",
       "      <th id=\"T_c3a72_level0_col8\" class=\"col_heading level0 col8\" >% Overall Passing</th>\n",
       "    </tr>\n",
       "    <tr>\n",
       "      <th class=\"index_name level0\" >school_name</th>\n",
       "      <th class=\"blank col0\" >&nbsp;</th>\n",
       "      <th class=\"blank col1\" >&nbsp;</th>\n",
       "      <th class=\"blank col2\" >&nbsp;</th>\n",
       "      <th class=\"blank col3\" >&nbsp;</th>\n",
       "      <th class=\"blank col4\" >&nbsp;</th>\n",
       "      <th class=\"blank col5\" >&nbsp;</th>\n",
       "      <th class=\"blank col6\" >&nbsp;</th>\n",
       "      <th class=\"blank col7\" >&nbsp;</th>\n",
       "      <th class=\"blank col8\" >&nbsp;</th>\n",
       "    </tr>\n",
       "  </thead>\n",
       "  <tbody>\n",
       "    <tr>\n",
       "      <th id=\"T_c3a72_level0_row0\" class=\"row_heading level0 row0\" >Griffin High School</th>\n",
       "      <td id=\"T_c3a72_row0_col0\" class=\"data row0 col0\" >Independent</td>\n",
       "      <td id=\"T_c3a72_row0_col1\" class=\"data row0 col1\" >1468</td>\n",
       "      <td id=\"T_c3a72_row0_col2\" class=\"data row0 col2\" >$917,500.00</td>\n",
       "      <td id=\"T_c3a72_row0_col3\" class=\"data row0 col3\" >$625.00</td>\n",
       "      <td id=\"T_c3a72_row0_col4\" class=\"data row0 col4\" >71.788147</td>\n",
       "      <td id=\"T_c3a72_row0_col5\" class=\"data row0 col5\" >71.245232</td>\n",
       "      <td id=\"T_c3a72_row0_col6\" class=\"data row0 col6\" >91.212534</td>\n",
       "      <td id=\"T_c3a72_row0_col7\" class=\"data row0 col7\" >88.487738</td>\n",
       "      <td id=\"T_c3a72_row0_col8\" class=\"data row0 col8\" >81.335150</td>\n",
       "    </tr>\n",
       "    <tr>\n",
       "      <th id=\"T_c3a72_level0_row1\" class=\"row_heading level0 row1\" >Cabrera High School</th>\n",
       "      <td id=\"T_c3a72_row1_col0\" class=\"data row1 col0\" >Independent</td>\n",
       "      <td id=\"T_c3a72_row1_col1\" class=\"data row1 col1\" >1858</td>\n",
       "      <td id=\"T_c3a72_row1_col2\" class=\"data row1 col2\" >$1,081,356.00</td>\n",
       "      <td id=\"T_c3a72_row1_col3\" class=\"data row1 col3\" >$582.00</td>\n",
       "      <td id=\"T_c3a72_row1_col4\" class=\"data row1 col4\" >71.657158</td>\n",
       "      <td id=\"T_c3a72_row1_col5\" class=\"data row1 col5\" >71.359526</td>\n",
       "      <td id=\"T_c3a72_row1_col6\" class=\"data row1 col6\" >90.850377</td>\n",
       "      <td id=\"T_c3a72_row1_col7\" class=\"data row1 col7\" >89.074273</td>\n",
       "      <td id=\"T_c3a72_row1_col8\" class=\"data row1 col8\" >80.785791</td>\n",
       "    </tr>\n",
       "    <tr>\n",
       "      <th id=\"T_c3a72_level0_row2\" class=\"row_heading level0 row2\" >Bailey High School</th>\n",
       "      <td id=\"T_c3a72_row2_col0\" class=\"data row2 col0\" >Government</td>\n",
       "      <td id=\"T_c3a72_row2_col1\" class=\"data row2 col1\" >4976</td>\n",
       "      <td id=\"T_c3a72_row2_col2\" class=\"data row2 col2\" >$3,124,928.00</td>\n",
       "      <td id=\"T_c3a72_row2_col3\" class=\"data row2 col3\" >$628.00</td>\n",
       "      <td id=\"T_c3a72_row2_col4\" class=\"data row2 col4\" >72.352894</td>\n",
       "      <td id=\"T_c3a72_row2_col5\" class=\"data row2 col5\" >71.008842</td>\n",
       "      <td id=\"T_c3a72_row2_col6\" class=\"data row2 col6\" >91.639871</td>\n",
       "      <td id=\"T_c3a72_row2_col7\" class=\"data row2 col7\" >87.379421</td>\n",
       "      <td id=\"T_c3a72_row2_col8\" class=\"data row2 col8\" >80.084405</td>\n",
       "    </tr>\n",
       "    <tr>\n",
       "      <th id=\"T_c3a72_level0_row3\" class=\"row_heading level0 row3\" >Wright High School</th>\n",
       "      <td id=\"T_c3a72_row3_col0\" class=\"data row3 col0\" >Independent</td>\n",
       "      <td id=\"T_c3a72_row3_col1\" class=\"data row3 col1\" >1800</td>\n",
       "      <td id=\"T_c3a72_row3_col2\" class=\"data row3 col2\" >$1,049,400.00</td>\n",
       "      <td id=\"T_c3a72_row3_col3\" class=\"data row3 col3\" >$583.00</td>\n",
       "      <td id=\"T_c3a72_row3_col4\" class=\"data row3 col4\" >72.047222</td>\n",
       "      <td id=\"T_c3a72_row3_col5\" class=\"data row3 col5\" >70.969444</td>\n",
       "      <td id=\"T_c3a72_row3_col6\" class=\"data row3 col6\" >91.777778</td>\n",
       "      <td id=\"T_c3a72_row3_col7\" class=\"data row3 col7\" >86.666667</td>\n",
       "      <td id=\"T_c3a72_row3_col8\" class=\"data row3 col8\" >79.722222</td>\n",
       "    </tr>\n",
       "    <tr>\n",
       "      <th id=\"T_c3a72_level0_row4\" class=\"row_heading level0 row4\" >Rodriguez High School</th>\n",
       "      <td id=\"T_c3a72_row4_col0\" class=\"data row4 col0\" >Government</td>\n",
       "      <td id=\"T_c3a72_row4_col1\" class=\"data row4 col1\" >3999</td>\n",
       "      <td id=\"T_c3a72_row4_col2\" class=\"data row4 col2\" >$2,547,363.00</td>\n",
       "      <td id=\"T_c3a72_row4_col3\" class=\"data row4 col3\" >$637.00</td>\n",
       "      <td id=\"T_c3a72_row4_col4\" class=\"data row4 col4\" >72.047762</td>\n",
       "      <td id=\"T_c3a72_row4_col5\" class=\"data row4 col5\" >70.935984</td>\n",
       "      <td id=\"T_c3a72_row4_col6\" class=\"data row4 col6\" >90.797699</td>\n",
       "      <td id=\"T_c3a72_row4_col7\" class=\"data row4 col7\" >87.396849</td>\n",
       "      <td id=\"T_c3a72_row4_col8\" class=\"data row4 col8\" >79.419855</td>\n",
       "    </tr>\n",
       "  </tbody>\n",
       "</table>\n"
      ],
      "text/plain": [
       "<pandas.io.formats.style.Styler at 0x12fce2290>"
      ]
     },
     "execution_count": 22,
     "metadata": {},
     "output_type": "execute_result"
    }
   ],
   "source": [
    "top_schools = school_summary.sort_values(\"% Overall Passing\", ascending=False)\n",
    "top_schools.head().style.format({'Total Students': '{:}',\n",
    "                           \"Total School Budget\": \"${:,.2f}\", \n",
    "                           \"Per Student Budget\": \"${:.2f}\", \n",
    "                           \"% Passing Maths\": \"{:2f}\", \n",
    "                           \"% Passing Reading\": \"{:2f}\", \n",
    "                           \"% Overall Passing\": \"{:2f}\"})"
   ]
  },
  {
   "cell_type": "markdown",
   "metadata": {},
   "source": [
    "## Bottom Performing Schools (By % Overall Passing)"
   ]
  },
  {
   "cell_type": "markdown",
   "metadata": {},
   "source": [
    "* Sort and display the five worst-performing schools by % overall passing."
   ]
  },
  {
   "cell_type": "code",
   "execution_count": 29,
   "metadata": {},
   "outputs": [
    {
     "data": {
      "text/html": [
       "<style type=\"text/css\">\n",
       "</style>\n",
       "<table id=\"T_e441f\">\n",
       "  <thead>\n",
       "    <tr>\n",
       "      <th class=\"blank level0\" >&nbsp;</th>\n",
       "      <th id=\"T_e441f_level0_col0\" class=\"col_heading level0 col0\" >School Type</th>\n",
       "      <th id=\"T_e441f_level0_col1\" class=\"col_heading level0 col1\" >Total Students</th>\n",
       "      <th id=\"T_e441f_level0_col2\" class=\"col_heading level0 col2\" >Total School Budget</th>\n",
       "      <th id=\"T_e441f_level0_col3\" class=\"col_heading level0 col3\" >Per Student Budget</th>\n",
       "      <th id=\"T_e441f_level0_col4\" class=\"col_heading level0 col4\" >Average Maths Score</th>\n",
       "      <th id=\"T_e441f_level0_col5\" class=\"col_heading level0 col5\" >Average Reading Score</th>\n",
       "      <th id=\"T_e441f_level0_col6\" class=\"col_heading level0 col6\" >% Passing Maths</th>\n",
       "      <th id=\"T_e441f_level0_col7\" class=\"col_heading level0 col7\" >% Passing Reading</th>\n",
       "      <th id=\"T_e441f_level0_col8\" class=\"col_heading level0 col8\" >% Overall Passing</th>\n",
       "    </tr>\n",
       "    <tr>\n",
       "      <th class=\"index_name level0\" >school_name</th>\n",
       "      <th class=\"blank col0\" >&nbsp;</th>\n",
       "      <th class=\"blank col1\" >&nbsp;</th>\n",
       "      <th class=\"blank col2\" >&nbsp;</th>\n",
       "      <th class=\"blank col3\" >&nbsp;</th>\n",
       "      <th class=\"blank col4\" >&nbsp;</th>\n",
       "      <th class=\"blank col5\" >&nbsp;</th>\n",
       "      <th class=\"blank col6\" >&nbsp;</th>\n",
       "      <th class=\"blank col7\" >&nbsp;</th>\n",
       "      <th class=\"blank col8\" >&nbsp;</th>\n",
       "    </tr>\n",
       "  </thead>\n",
       "  <tbody>\n",
       "    <tr>\n",
       "      <th id=\"T_e441f_level0_row0\" class=\"row_heading level0 row0\" >Hernandez High School</th>\n",
       "      <td id=\"T_e441f_row0_col0\" class=\"data row0 col0\" >Government</td>\n",
       "      <td id=\"T_e441f_row0_col1\" class=\"data row0 col1\" > 4635</td>\n",
       "      <td id=\"T_e441f_row0_col2\" class=\"data row0 col2\" >$3,022,020.00</td>\n",
       "      <td id=\"T_e441f_row0_col3\" class=\"data row0 col3\" >$652.00</td>\n",
       "      <td id=\"T_e441f_row0_col4\" class=\"data row0 col4\" >68.874865</td>\n",
       "      <td id=\"T_e441f_row0_col5\" class=\"data row0 col5\" >69.186408</td>\n",
       "      <td id=\"T_e441f_row0_col6\" class=\"data row0 col6\" >80.949299</td>\n",
       "      <td id=\"T_e441f_row0_col7\" class=\"data row0 col7\" >81.877023</td>\n",
       "      <td id=\"T_e441f_row0_col8\" class=\"data row0 col8\" >66.364617</td>\n",
       "    </tr>\n",
       "    <tr>\n",
       "      <th id=\"T_e441f_level0_row1\" class=\"row_heading level0 row1\" >Huang High School</th>\n",
       "      <td id=\"T_e441f_row1_col0\" class=\"data row1 col0\" >Government</td>\n",
       "      <td id=\"T_e441f_row1_col1\" class=\"data row1 col1\" > 2917</td>\n",
       "      <td id=\"T_e441f_row1_col2\" class=\"data row1 col2\" >$1,910,635.00</td>\n",
       "      <td id=\"T_e441f_row1_col3\" class=\"data row1 col3\" >$655.00</td>\n",
       "      <td id=\"T_e441f_row1_col4\" class=\"data row1 col4\" >68.935207</td>\n",
       "      <td id=\"T_e441f_row1_col5\" class=\"data row1 col5\" >68.910525</td>\n",
       "      <td id=\"T_e441f_row1_col6\" class=\"data row1 col6\" >81.693521</td>\n",
       "      <td id=\"T_e441f_row1_col7\" class=\"data row1 col7\" >81.453548</td>\n",
       "      <td id=\"T_e441f_row1_col8\" class=\"data row1 col8\" >66.712376</td>\n",
       "    </tr>\n",
       "    <tr>\n",
       "      <th id=\"T_e441f_level0_row2\" class=\"row_heading level0 row2\" >Johnson High School</th>\n",
       "      <td id=\"T_e441f_row2_col0\" class=\"data row2 col0\" >Government</td>\n",
       "      <td id=\"T_e441f_row2_col1\" class=\"data row2 col1\" > 4761</td>\n",
       "      <td id=\"T_e441f_row2_col2\" class=\"data row2 col2\" >$3,094,650.00</td>\n",
       "      <td id=\"T_e441f_row2_col3\" class=\"data row2 col3\" >$650.00</td>\n",
       "      <td id=\"T_e441f_row2_col4\" class=\"data row2 col4\" >68.843100</td>\n",
       "      <td id=\"T_e441f_row2_col5\" class=\"data row2 col5\" >69.039277</td>\n",
       "      <td id=\"T_e441f_row2_col6\" class=\"data row2 col6\" >82.062592</td>\n",
       "      <td id=\"T_e441f_row2_col7\" class=\"data row2 col7\" >81.978576</td>\n",
       "      <td id=\"T_e441f_row2_col8\" class=\"data row2 col8\" >67.191766</td>\n",
       "    </tr>\n",
       "    <tr>\n",
       "      <th id=\"T_e441f_level0_row3\" class=\"row_heading level0 row3\" >Wilson High School</th>\n",
       "      <td id=\"T_e441f_row3_col0\" class=\"data row3 col0\" >Independent</td>\n",
       "      <td id=\"T_e441f_row3_col1\" class=\"data row3 col1\" > 2283</td>\n",
       "      <td id=\"T_e441f_row3_col2\" class=\"data row3 col2\" >$1,319,574.00</td>\n",
       "      <td id=\"T_e441f_row3_col3\" class=\"data row3 col3\" >$578.00</td>\n",
       "      <td id=\"T_e441f_row3_col4\" class=\"data row3 col4\" >69.170828</td>\n",
       "      <td id=\"T_e441f_row3_col5\" class=\"data row3 col5\" >68.876916</td>\n",
       "      <td id=\"T_e441f_row3_col6\" class=\"data row3 col6\" >82.785808</td>\n",
       "      <td id=\"T_e441f_row3_col7\" class=\"data row3 col7\" >81.296540</td>\n",
       "      <td id=\"T_e441f_row3_col8\" class=\"data row3 col8\" >67.455103</td>\n",
       "    </tr>\n",
       "    <tr>\n",
       "      <th id=\"T_e441f_level0_row4\" class=\"row_heading level0 row4\" >Ford High School</th>\n",
       "      <td id=\"T_e441f_row4_col0\" class=\"data row4 col0\" >Government</td>\n",
       "      <td id=\"T_e441f_row4_col1\" class=\"data row4 col1\" > 2739</td>\n",
       "      <td id=\"T_e441f_row4_col2\" class=\"data row4 col2\" >$1,763,916.00</td>\n",
       "      <td id=\"T_e441f_row4_col3\" class=\"data row4 col3\" >$644.00</td>\n",
       "      <td id=\"T_e441f_row4_col4\" class=\"data row4 col4\" >69.091274</td>\n",
       "      <td id=\"T_e441f_row4_col5\" class=\"data row4 col5\" >69.572472</td>\n",
       "      <td id=\"T_e441f_row4_col6\" class=\"data row4 col6\" >82.438846</td>\n",
       "      <td id=\"T_e441f_row4_col7\" class=\"data row4 col7\" >82.219788</td>\n",
       "      <td id=\"T_e441f_row4_col8\" class=\"data row4 col8\" >67.469880</td>\n",
       "    </tr>\n",
       "  </tbody>\n",
       "</table>\n"
      ],
      "text/plain": [
       "<pandas.io.formats.style.Styler at 0x15d61fdc0>"
      ]
     },
     "execution_count": 29,
     "metadata": {},
     "output_type": "execute_result"
    }
   ],
   "source": [
    "bottom_schools = top_schools.tail()\n",
    "bottom_schools = bottom_schools.sort_values('% Overall Passing')\n",
    "bottom_schools.style.format({'Total Students': '{: }', \n",
    "                       \"Total School Budget\": \"${:,.2f}\", \n",
    "                       \"Per Student Budget\": \"${:.2f}\", \n",
    "                       \"% Passing Maths\": \"{:6f}\", \n",
    "                       \"% Passing Reading\": \"{:6f}\", \n",
    "                       \"% Overall Passing\": \"{:6f}\"})"
   ]
  },
  {
   "cell_type": "markdown",
   "metadata": {
    "collapsed": true
   },
   "source": [
    "## Maths Scores by Year"
   ]
  },
  {
   "cell_type": "markdown",
   "metadata": {},
   "source": [
    "* Create a table that lists the average maths score for students of each year level (9, 10, 11, 12) at each school.\n",
    "\n",
    "  * Create a pandas series for each year. Hint: use a conditional statement.\n",
    "  \n",
    "  * Group each series by school\n",
    "  \n",
    "  * Combine the series into a dataframe\n",
    "  \n",
    "  * Optional: give the displayed data cleaner formatting"
   ]
  },
  {
   "cell_type": "code",
   "execution_count": 24,
   "metadata": {},
   "outputs": [
    {
     "data": {
      "text/html": [
       "<style type=\"text/css\">\n",
       "</style>\n",
       "<table id=\"T_aa20c\">\n",
       "  <thead>\n",
       "    <tr>\n",
       "      <th class=\"blank level0\" >&nbsp;</th>\n",
       "      <th id=\"T_aa20c_level0_col0\" class=\"col_heading level0 col0\" >Year 9</th>\n",
       "      <th id=\"T_aa20c_level0_col1\" class=\"col_heading level0 col1\" >Year 10</th>\n",
       "      <th id=\"T_aa20c_level0_col2\" class=\"col_heading level0 col2\" >Year 11</th>\n",
       "      <th id=\"T_aa20c_level0_col3\" class=\"col_heading level0 col3\" >Year 12</th>\n",
       "    </tr>\n",
       "    <tr>\n",
       "      <th class=\"index_name level0\" >School Name</th>\n",
       "      <th class=\"blank col0\" >&nbsp;</th>\n",
       "      <th class=\"blank col1\" >&nbsp;</th>\n",
       "      <th class=\"blank col2\" >&nbsp;</th>\n",
       "      <th class=\"blank col3\" >&nbsp;</th>\n",
       "    </tr>\n",
       "  </thead>\n",
       "  <tbody>\n",
       "    <tr>\n",
       "      <th id=\"T_aa20c_level0_row0\" class=\"row_heading level0 row0\" >Bailey High School</th>\n",
       "      <td id=\"T_aa20c_row0_col0\" class=\"data row0 col0\" >72.49</td>\n",
       "      <td id=\"T_aa20c_row0_col1\" class=\"data row0 col1\" >71.90</td>\n",
       "      <td id=\"T_aa20c_row0_col2\" class=\"data row0 col2\" >72.37</td>\n",
       "      <td id=\"T_aa20c_row0_col3\" class=\"data row0 col3\" >72.68</td>\n",
       "    </tr>\n",
       "    <tr>\n",
       "      <th id=\"T_aa20c_level0_row1\" class=\"row_heading level0 row1\" >Cabrera High School</th>\n",
       "      <td id=\"T_aa20c_row1_col0\" class=\"data row1 col0\" >72.32</td>\n",
       "      <td id=\"T_aa20c_row1_col1\" class=\"data row1 col1\" >72.44</td>\n",
       "      <td id=\"T_aa20c_row1_col2\" class=\"data row1 col2\" >71.01</td>\n",
       "      <td id=\"T_aa20c_row1_col3\" class=\"data row1 col3\" >70.60</td>\n",
       "    </tr>\n",
       "    <tr>\n",
       "      <th id=\"T_aa20c_level0_row2\" class=\"row_heading level0 row2\" >Figueroa High School</th>\n",
       "      <td id=\"T_aa20c_row2_col0\" class=\"data row2 col0\" >68.48</td>\n",
       "      <td id=\"T_aa20c_row2_col1\" class=\"data row2 col1\" >68.33</td>\n",
       "      <td id=\"T_aa20c_row2_col2\" class=\"data row2 col2\" >68.81</td>\n",
       "      <td id=\"T_aa20c_row2_col3\" class=\"data row2 col3\" >69.33</td>\n",
       "    </tr>\n",
       "    <tr>\n",
       "      <th id=\"T_aa20c_level0_row3\" class=\"row_heading level0 row3\" >Ford High School</th>\n",
       "      <td id=\"T_aa20c_row3_col0\" class=\"data row3 col0\" >69.02</td>\n",
       "      <td id=\"T_aa20c_row3_col1\" class=\"data row3 col1\" >69.39</td>\n",
       "      <td id=\"T_aa20c_row3_col2\" class=\"data row3 col2\" >69.25</td>\n",
       "      <td id=\"T_aa20c_row3_col3\" class=\"data row3 col3\" >68.62</td>\n",
       "    </tr>\n",
       "    <tr>\n",
       "      <th id=\"T_aa20c_level0_row4\" class=\"row_heading level0 row4\" >Griffin High School</th>\n",
       "      <td id=\"T_aa20c_row4_col0\" class=\"data row4 col0\" >72.79</td>\n",
       "      <td id=\"T_aa20c_row4_col1\" class=\"data row4 col1\" >71.09</td>\n",
       "      <td id=\"T_aa20c_row4_col2\" class=\"data row4 col2\" >71.69</td>\n",
       "      <td id=\"T_aa20c_row4_col3\" class=\"data row4 col3\" >71.47</td>\n",
       "    </tr>\n",
       "    <tr>\n",
       "      <th id=\"T_aa20c_level0_row5\" class=\"row_heading level0 row5\" >Hernandez High School</th>\n",
       "      <td id=\"T_aa20c_row5_col0\" class=\"data row5 col0\" >68.59</td>\n",
       "      <td id=\"T_aa20c_row5_col1\" class=\"data row5 col1\" >68.87</td>\n",
       "      <td id=\"T_aa20c_row5_col2\" class=\"data row5 col2\" >69.15</td>\n",
       "      <td id=\"T_aa20c_row5_col3\" class=\"data row5 col3\" >68.99</td>\n",
       "    </tr>\n",
       "    <tr>\n",
       "      <th id=\"T_aa20c_level0_row6\" class=\"row_heading level0 row6\" >Holden High School</th>\n",
       "      <td id=\"T_aa20c_row6_col0\" class=\"data row6 col0\" >70.54</td>\n",
       "      <td id=\"T_aa20c_row6_col1\" class=\"data row6 col1\" >75.11</td>\n",
       "      <td id=\"T_aa20c_row6_col2\" class=\"data row6 col2\" >71.64</td>\n",
       "      <td id=\"T_aa20c_row6_col3\" class=\"data row6 col3\" >73.41</td>\n",
       "    </tr>\n",
       "    <tr>\n",
       "      <th id=\"T_aa20c_level0_row7\" class=\"row_heading level0 row7\" >Huang High School</th>\n",
       "      <td id=\"T_aa20c_row7_col0\" class=\"data row7 col0\" >69.08</td>\n",
       "      <td id=\"T_aa20c_row7_col1\" class=\"data row7 col1\" >68.53</td>\n",
       "      <td id=\"T_aa20c_row7_col2\" class=\"data row7 col2\" >69.43</td>\n",
       "      <td id=\"T_aa20c_row7_col3\" class=\"data row7 col3\" >68.64</td>\n",
       "    </tr>\n",
       "    <tr>\n",
       "      <th id=\"T_aa20c_level0_row8\" class=\"row_heading level0 row8\" >Johnson High School</th>\n",
       "      <td id=\"T_aa20c_row8_col0\" class=\"data row8 col0\" >69.47</td>\n",
       "      <td id=\"T_aa20c_row8_col1\" class=\"data row8 col1\" >67.99</td>\n",
       "      <td id=\"T_aa20c_row8_col2\" class=\"data row8 col2\" >68.64</td>\n",
       "      <td id=\"T_aa20c_row8_col3\" class=\"data row8 col3\" >69.29</td>\n",
       "    </tr>\n",
       "    <tr>\n",
       "      <th id=\"T_aa20c_level0_row9\" class=\"row_heading level0 row9\" >Pena High School</th>\n",
       "      <td id=\"T_aa20c_row9_col0\" class=\"data row9 col0\" >72.00</td>\n",
       "      <td id=\"T_aa20c_row9_col1\" class=\"data row9 col1\" >72.40</td>\n",
       "      <td id=\"T_aa20c_row9_col2\" class=\"data row9 col2\" >72.52</td>\n",
       "      <td id=\"T_aa20c_row9_col3\" class=\"data row9 col3\" >71.19</td>\n",
       "    </tr>\n",
       "    <tr>\n",
       "      <th id=\"T_aa20c_level0_row10\" class=\"row_heading level0 row10\" >Rodriguez High School</th>\n",
       "      <td id=\"T_aa20c_row10_col0\" class=\"data row10 col0\" >71.94</td>\n",
       "      <td id=\"T_aa20c_row10_col1\" class=\"data row10 col1\" >71.78</td>\n",
       "      <td id=\"T_aa20c_row10_col2\" class=\"data row10 col2\" >72.36</td>\n",
       "      <td id=\"T_aa20c_row10_col3\" class=\"data row10 col3\" >72.15</td>\n",
       "    </tr>\n",
       "    <tr>\n",
       "      <th id=\"T_aa20c_level0_row11\" class=\"row_heading level0 row11\" >Shelton High School</th>\n",
       "      <td id=\"T_aa20c_row11_col0\" class=\"data row11 col0\" >72.93</td>\n",
       "      <td id=\"T_aa20c_row11_col1\" class=\"data row11 col1\" >72.51</td>\n",
       "      <td id=\"T_aa20c_row11_col2\" class=\"data row11 col2\" >70.10</td>\n",
       "      <td id=\"T_aa20c_row11_col3\" class=\"data row11 col3\" >72.33</td>\n",
       "    </tr>\n",
       "    <tr>\n",
       "      <th id=\"T_aa20c_level0_row12\" class=\"row_heading level0 row12\" >Thomas High School</th>\n",
       "      <td id=\"T_aa20c_row12_col0\" class=\"data row12 col0\" >69.23</td>\n",
       "      <td id=\"T_aa20c_row12_col1\" class=\"data row12 col1\" >70.06</td>\n",
       "      <td id=\"T_aa20c_row12_col2\" class=\"data row12 col2\" >69.66</td>\n",
       "      <td id=\"T_aa20c_row12_col3\" class=\"data row12 col3\" >69.37</td>\n",
       "    </tr>\n",
       "    <tr>\n",
       "      <th id=\"T_aa20c_level0_row13\" class=\"row_heading level0 row13\" >Wilson High School</th>\n",
       "      <td id=\"T_aa20c_row13_col0\" class=\"data row13 col0\" >69.21</td>\n",
       "      <td id=\"T_aa20c_row13_col1\" class=\"data row13 col1\" >69.46</td>\n",
       "      <td id=\"T_aa20c_row13_col2\" class=\"data row13 col2\" >68.38</td>\n",
       "      <td id=\"T_aa20c_row13_col3\" class=\"data row13 col3\" >69.79</td>\n",
       "    </tr>\n",
       "    <tr>\n",
       "      <th id=\"T_aa20c_level0_row14\" class=\"row_heading level0 row14\" >Wright High School</th>\n",
       "      <td id=\"T_aa20c_row14_col0\" class=\"data row14 col0\" >71.74</td>\n",
       "      <td id=\"T_aa20c_row14_col1\" class=\"data row14 col1\" >72.18</td>\n",
       "      <td id=\"T_aa20c_row14_col2\" class=\"data row14 col2\" >73.28</td>\n",
       "      <td id=\"T_aa20c_row14_col3\" class=\"data row14 col3\" >70.85</td>\n",
       "    </tr>\n",
       "  </tbody>\n",
       "</table>\n"
      ],
      "text/plain": [
       "<pandas.io.formats.style.Styler at 0x12fce3be0>"
      ]
     },
     "execution_count": 24,
     "metadata": {},
     "output_type": "execute_result"
    }
   ],
   "source": [
    "#creates grade level average math scores for each school \n",
    "year_nine_maths = student_data.loc[student_data['year'] == 9].groupby('school_name')[\"maths_score\"].mean()\n",
    "year_ten_maths = student_data.loc[student_data['year'] == 10].groupby('school_name')[\"maths_score\"].mean()\n",
    "year_eleven_maths = student_data.loc[student_data['year'] == 11].groupby('school_name')[\"maths_score\"].mean()\n",
    "year_twelve_maths = student_data.loc[student_data['year'] == 12].groupby('school_name')[\"maths_score\"].mean()\n",
    "\n",
    "maths_scores = pd.DataFrame({\n",
    "        \"Year 9\": year_nine_maths,\n",
    "        \"Year 10\": year_ten_maths,\n",
    "        \"Year 11\": year_eleven_maths,\n",
    "        \"Year 12\": year_twelve_maths\n",
    "})\n",
    "maths_scores = maths_scores[['Year 9', 'Year 10', 'Year 11', 'Year 12']]\n",
    "maths_scores.index.name = \"School Name\"\n",
    "\n",
    "#show and format\n",
    "maths_scores.style.format({'Year 9': '{:.2f}', \n",
    "                          \"Year 10\": '{:.2f}', \n",
    "                          \"Year 11\": \"{:.2f}\", \n",
    "                          \"Year 12\": \"{:.2f}\"})\n"
   ]
  },
  {
   "cell_type": "markdown",
   "metadata": {},
   "source": [
    "## Reading Score by Year"
   ]
  },
  {
   "cell_type": "markdown",
   "metadata": {},
   "source": [
    "* Perform the same operations as above for reading scores"
   ]
  },
  {
   "cell_type": "code",
   "execution_count": 25,
   "metadata": {},
   "outputs": [
    {
     "data": {
      "text/html": [
       "<style type=\"text/css\">\n",
       "</style>\n",
       "<table id=\"T_576cc\">\n",
       "  <thead>\n",
       "    <tr>\n",
       "      <th class=\"blank level0\" >&nbsp;</th>\n",
       "      <th id=\"T_576cc_level0_col0\" class=\"col_heading level0 col0\" >Year 9</th>\n",
       "      <th id=\"T_576cc_level0_col1\" class=\"col_heading level0 col1\" >Year 10</th>\n",
       "      <th id=\"T_576cc_level0_col2\" class=\"col_heading level0 col2\" >Year 11</th>\n",
       "      <th id=\"T_576cc_level0_col3\" class=\"col_heading level0 col3\" >Year 12</th>\n",
       "    </tr>\n",
       "    <tr>\n",
       "      <th class=\"index_name level0\" >School Name</th>\n",
       "      <th class=\"blank col0\" >&nbsp;</th>\n",
       "      <th class=\"blank col1\" >&nbsp;</th>\n",
       "      <th class=\"blank col2\" >&nbsp;</th>\n",
       "      <th class=\"blank col3\" >&nbsp;</th>\n",
       "    </tr>\n",
       "  </thead>\n",
       "  <tbody>\n",
       "    <tr>\n",
       "      <th id=\"T_576cc_level0_row0\" class=\"row_heading level0 row0\" >Bailey High School</th>\n",
       "      <td id=\"T_576cc_row0_col0\" class=\"data row0 col0\" >70.90</td>\n",
       "      <td id=\"T_576cc_row0_col1\" class=\"data row0 col1\" >70.85</td>\n",
       "      <td id=\"T_576cc_row0_col2\" class=\"data row0 col2\" >70.32</td>\n",
       "      <td id=\"T_576cc_row0_col3\" class=\"data row0 col3\" >72.20</td>\n",
       "    </tr>\n",
       "    <tr>\n",
       "      <th id=\"T_576cc_level0_row1\" class=\"row_heading level0 row1\" >Cabrera High School</th>\n",
       "      <td id=\"T_576cc_row1_col0\" class=\"data row1 col0\" >71.17</td>\n",
       "      <td id=\"T_576cc_row1_col1\" class=\"data row1 col1\" >71.33</td>\n",
       "      <td id=\"T_576cc_row1_col2\" class=\"data row1 col2\" >71.20</td>\n",
       "      <td id=\"T_576cc_row1_col3\" class=\"data row1 col3\" >71.86</td>\n",
       "    </tr>\n",
       "    <tr>\n",
       "      <th id=\"T_576cc_level0_row2\" class=\"row_heading level0 row2\" >Figueroa High School</th>\n",
       "      <td id=\"T_576cc_row2_col0\" class=\"data row2 col0\" >70.26</td>\n",
       "      <td id=\"T_576cc_row2_col1\" class=\"data row2 col1\" >67.68</td>\n",
       "      <td id=\"T_576cc_row2_col2\" class=\"data row2 col2\" >69.15</td>\n",
       "      <td id=\"T_576cc_row2_col3\" class=\"data row2 col3\" >69.08</td>\n",
       "    </tr>\n",
       "    <tr>\n",
       "      <th id=\"T_576cc_level0_row3\" class=\"row_heading level0 row3\" >Ford High School</th>\n",
       "      <td id=\"T_576cc_row3_col0\" class=\"data row3 col0\" >69.62</td>\n",
       "      <td id=\"T_576cc_row3_col1\" class=\"data row3 col1\" >68.99</td>\n",
       "      <td id=\"T_576cc_row3_col2\" class=\"data row3 col2\" >70.74</td>\n",
       "      <td id=\"T_576cc_row3_col3\" class=\"data row3 col3\" >68.85</td>\n",
       "    </tr>\n",
       "    <tr>\n",
       "      <th id=\"T_576cc_level0_row4\" class=\"row_heading level0 row4\" >Griffin High School</th>\n",
       "      <td id=\"T_576cc_row4_col0\" class=\"data row4 col0\" >72.03</td>\n",
       "      <td id=\"T_576cc_row4_col1\" class=\"data row4 col1\" >70.75</td>\n",
       "      <td id=\"T_576cc_row4_col2\" class=\"data row4 col2\" >72.39</td>\n",
       "      <td id=\"T_576cc_row4_col3\" class=\"data row4 col3\" >69.43</td>\n",
       "    </tr>\n",
       "    <tr>\n",
       "      <th id=\"T_576cc_level0_row5\" class=\"row_heading level0 row5\" >Hernandez High School</th>\n",
       "      <td id=\"T_576cc_row5_col0\" class=\"data row5 col0\" >68.48</td>\n",
       "      <td id=\"T_576cc_row5_col1\" class=\"data row5 col1\" >70.62</td>\n",
       "      <td id=\"T_576cc_row5_col2\" class=\"data row5 col2\" >68.42</td>\n",
       "      <td id=\"T_576cc_row5_col3\" class=\"data row5 col3\" >69.24</td>\n",
       "    </tr>\n",
       "    <tr>\n",
       "      <th id=\"T_576cc_level0_row6\" class=\"row_heading level0 row6\" >Holden High School</th>\n",
       "      <td id=\"T_576cc_row6_col0\" class=\"data row6 col0\" >71.60</td>\n",
       "      <td id=\"T_576cc_row6_col1\" class=\"data row6 col1\" >71.10</td>\n",
       "      <td id=\"T_576cc_row6_col2\" class=\"data row6 col2\" >73.31</td>\n",
       "      <td id=\"T_576cc_row6_col3\" class=\"data row6 col3\" >70.48</td>\n",
       "    </tr>\n",
       "    <tr>\n",
       "      <th id=\"T_576cc_level0_row7\" class=\"row_heading level0 row7\" >Huang High School</th>\n",
       "      <td id=\"T_576cc_row7_col0\" class=\"data row7 col0\" >68.67</td>\n",
       "      <td id=\"T_576cc_row7_col1\" class=\"data row7 col1\" >69.52</td>\n",
       "      <td id=\"T_576cc_row7_col2\" class=\"data row7 col2\" >68.74</td>\n",
       "      <td id=\"T_576cc_row7_col3\" class=\"data row7 col3\" >68.67</td>\n",
       "    </tr>\n",
       "    <tr>\n",
       "      <th id=\"T_576cc_level0_row8\" class=\"row_heading level0 row8\" >Johnson High School</th>\n",
       "      <td id=\"T_576cc_row8_col0\" class=\"data row8 col0\" >68.72</td>\n",
       "      <td id=\"T_576cc_row8_col1\" class=\"data row8 col1\" >69.30</td>\n",
       "      <td id=\"T_576cc_row8_col2\" class=\"data row8 col2\" >69.97</td>\n",
       "      <td id=\"T_576cc_row8_col3\" class=\"data row8 col3\" >67.99</td>\n",
       "    </tr>\n",
       "    <tr>\n",
       "      <th id=\"T_576cc_level0_row9\" class=\"row_heading level0 row9\" >Pena High School</th>\n",
       "      <td id=\"T_576cc_row9_col0\" class=\"data row9 col0\" >70.95</td>\n",
       "      <td id=\"T_576cc_row9_col1\" class=\"data row9 col1\" >72.32</td>\n",
       "      <td id=\"T_576cc_row9_col2\" class=\"data row9 col2\" >71.70</td>\n",
       "      <td id=\"T_576cc_row9_col3\" class=\"data row9 col3\" >71.51</td>\n",
       "    </tr>\n",
       "    <tr>\n",
       "      <th id=\"T_576cc_level0_row10\" class=\"row_heading level0 row10\" >Rodriguez High School</th>\n",
       "      <td id=\"T_576cc_row10_col0\" class=\"data row10 col0\" >70.90</td>\n",
       "      <td id=\"T_576cc_row10_col1\" class=\"data row10 col1\" >70.14</td>\n",
       "      <td id=\"T_576cc_row10_col2\" class=\"data row10 col2\" >71.42</td>\n",
       "      <td id=\"T_576cc_row10_col3\" class=\"data row10 col3\" >71.41</td>\n",
       "    </tr>\n",
       "    <tr>\n",
       "      <th id=\"T_576cc_level0_row11\" class=\"row_heading level0 row11\" >Shelton High School</th>\n",
       "      <td id=\"T_576cc_row11_col0\" class=\"data row11 col0\" >70.72</td>\n",
       "      <td id=\"T_576cc_row11_col1\" class=\"data row11 col1\" >69.88</td>\n",
       "      <td id=\"T_576cc_row11_col2\" class=\"data row11 col2\" >71.15</td>\n",
       "      <td id=\"T_576cc_row11_col3\" class=\"data row11 col3\" >69.07</td>\n",
       "    </tr>\n",
       "    <tr>\n",
       "      <th id=\"T_576cc_level0_row12\" class=\"row_heading level0 row12\" >Thomas High School</th>\n",
       "      <td id=\"T_576cc_row12_col0\" class=\"data row12 col0\" >69.67</td>\n",
       "      <td id=\"T_576cc_row12_col1\" class=\"data row12 col1\" >69.74</td>\n",
       "      <td id=\"T_576cc_row12_col2\" class=\"data row12 col2\" >70.75</td>\n",
       "      <td id=\"T_576cc_row12_col3\" class=\"data row12 col3\" >68.73</td>\n",
       "    </tr>\n",
       "    <tr>\n",
       "      <th id=\"T_576cc_level0_row13\" class=\"row_heading level0 row13\" >Wilson High School</th>\n",
       "      <td id=\"T_576cc_row13_col0\" class=\"data row13 col0\" >68.68</td>\n",
       "      <td id=\"T_576cc_row13_col1\" class=\"data row13 col1\" >68.41</td>\n",
       "      <td id=\"T_576cc_row13_col2\" class=\"data row13 col2\" >68.80</td>\n",
       "      <td id=\"T_576cc_row13_col3\" class=\"data row13 col3\" >69.89</td>\n",
       "    </tr>\n",
       "    <tr>\n",
       "      <th id=\"T_576cc_level0_row14\" class=\"row_heading level0 row14\" >Wright High School</th>\n",
       "      <td id=\"T_576cc_row14_col0\" class=\"data row14 col0\" >71.82</td>\n",
       "      <td id=\"T_576cc_row14_col1\" class=\"data row14 col1\" >71.39</td>\n",
       "      <td id=\"T_576cc_row14_col2\" class=\"data row14 col2\" >70.48</td>\n",
       "      <td id=\"T_576cc_row14_col3\" class=\"data row14 col3\" >69.82</td>\n",
       "    </tr>\n",
       "  </tbody>\n",
       "</table>\n"
      ],
      "text/plain": [
       "<pandas.io.formats.style.Styler at 0x15c17d3c0>"
      ]
     },
     "execution_count": 25,
     "metadata": {},
     "output_type": "execute_result"
    }
   ],
   "source": [
    "#creates grade level average reading scores for each school \n",
    "year_nine_reading = student_data.loc[student_data['year'] == 9].groupby('school_name')[\"reading_score\"].mean()\n",
    "year_ten_reading = student_data.loc[student_data['year'] == 10].groupby('school_name')[\"reading_score\"].mean()\n",
    "year_eleven_reading = student_data.loc[student_data['year'] == 11].groupby('school_name')[\"reading_score\"].mean()\n",
    "year_twelve_reading = student_data.loc[student_data['year'] == 12].groupby('school_name')[\"reading_score\"].mean()\n",
    "\n",
    "#merges the reading score averages by school and grade together\n",
    "reading_scores = pd.DataFrame({\n",
    "        \"Year 9\": year_nine_reading,\n",
    "        \"Year 10\": year_ten_reading,\n",
    "        \"Year 11\": year_eleven_reading,\n",
    "        \"Year 12\": year_twelve_reading\n",
    "})\n",
    "reading_scores = reading_scores[['Year 9', 'Year 10', 'Year 11', 'Year 12']]\n",
    "reading_scores.index.name = \"School Name\"\n",
    "\n",
    "#format\n",
    "reading_scores.style.format({'Year 9': '{:.2f}', \n",
    "                             \"Year 10\": '{:.2f}', \n",
    "                             \"Year 11\": \"{:.2f}\", \n",
    "                             \"Year 12\": \"{:.2f}\"})\n"
   ]
  },
  {
   "cell_type": "markdown",
   "metadata": {},
   "source": [
    "## Scores by School Spending"
   ]
  },
  {
   "cell_type": "markdown",
   "metadata": {},
   "source": [
    "* Create a table that breaks down school performances based on average Spending Ranges (Per Student). Use 4 reasonable bins to group school spending. Include in the table each of the following:\n",
    "  * Average Maths Score\n",
    "  * Average Reading Score\n",
    "  * % Passing Maths\n",
    "  * % Passing Reading\n",
    "  * Overall Passing Rate (Average of the above two)"
   ]
  },
  {
   "cell_type": "code",
   "execution_count": 26,
   "metadata": {},
   "outputs": [
    {
     "data": {
      "text/html": [
       "<style type=\"text/css\">\n",
       "</style>\n",
       "<table id=\"T_692d8\">\n",
       "  <thead>\n",
       "    <tr>\n",
       "      <th class=\"blank level0\" >&nbsp;</th>\n",
       "      <th id=\"T_692d8_level0_col0\" class=\"col_heading level0 col0\" >Average Maths Score</th>\n",
       "      <th id=\"T_692d8_level0_col1\" class=\"col_heading level0 col1\" >Average Reading Score</th>\n",
       "      <th id=\"T_692d8_level0_col2\" class=\"col_heading level0 col2\" >% Passing Maths</th>\n",
       "      <th id=\"T_692d8_level0_col3\" class=\"col_heading level0 col3\" >% Passing Reading</th>\n",
       "      <th id=\"T_692d8_level0_col4\" class=\"col_heading level0 col4\" >% Overall Passing</th>\n",
       "    </tr>\n",
       "    <tr>\n",
       "      <th class=\"index_name level0\" >Spending Ranges (Per Student)</th>\n",
       "      <th class=\"blank col0\" >&nbsp;</th>\n",
       "      <th class=\"blank col1\" >&nbsp;</th>\n",
       "      <th class=\"blank col2\" >&nbsp;</th>\n",
       "      <th class=\"blank col3\" >&nbsp;</th>\n",
       "      <th class=\"blank col4\" >&nbsp;</th>\n",
       "    </tr>\n",
       "  </thead>\n",
       "  <tbody>\n",
       "    <tr>\n",
       "      <th id=\"T_692d8_level0_row0\" class=\"row_heading level0 row0\" ><$585</th>\n",
       "      <td id=\"T_692d8_row0_col0\" class=\"data row0 col0\" >71.36</td>\n",
       "      <td id=\"T_692d8_row0_col1\" class=\"data row0 col1\" >70.72</td>\n",
       "      <td id=\"T_692d8_row0_col2\" class=\"data row0 col2\" >88.84</td>\n",
       "      <td id=\"T_692d8_row0_col3\" class=\"data row0 col3\" >86.39</td>\n",
       "      <td id=\"T_692d8_row0_col4\" class=\"data row0 col4\" >76.72</td>\n",
       "    </tr>\n",
       "    <tr>\n",
       "      <th id=\"T_692d8_level0_row1\" class=\"row_heading level0 row1\" >$585-630</th>\n",
       "      <td id=\"T_692d8_row1_col0\" class=\"data row1 col0\" >72.07</td>\n",
       "      <td id=\"T_692d8_row1_col1\" class=\"data row1 col1\" >71.03</td>\n",
       "      <td id=\"T_692d8_row1_col2\" class=\"data row1 col2\" >91.52</td>\n",
       "      <td id=\"T_692d8_row1_col3\" class=\"data row1 col3\" >87.29</td>\n",
       "      <td id=\"T_692d8_row1_col4\" class=\"data row1 col4\" >79.88</td>\n",
       "    </tr>\n",
       "    <tr>\n",
       "      <th id=\"T_692d8_level0_row2\" class=\"row_heading level0 row2\" >$630-645</th>\n",
       "      <td id=\"T_692d8_row2_col0\" class=\"data row2 col0\" >69.85</td>\n",
       "      <td id=\"T_692d8_row2_col1\" class=\"data row2 col1\" >69.84</td>\n",
       "      <td id=\"T_692d8_row2_col2\" class=\"data row2 col2\" >84.69</td>\n",
       "      <td id=\"T_692d8_row2_col3\" class=\"data row2 col3\" >83.76</td>\n",
       "      <td id=\"T_692d8_row2_col4\" class=\"data row2 col4\" >71.00</td>\n",
       "    </tr>\n",
       "    <tr>\n",
       "      <th id=\"T_692d8_level0_row3\" class=\"row_heading level0 row3\" >$645-680</th>\n",
       "      <td id=\"T_692d8_row3_col0\" class=\"data row3 col0\" >68.88</td>\n",
       "      <td id=\"T_692d8_row3_col1\" class=\"data row3 col1\" >69.05</td>\n",
       "      <td id=\"T_692d8_row3_col2\" class=\"data row3 col2\" >81.57</td>\n",
       "      <td id=\"T_692d8_row3_col3\" class=\"data row3 col3\" >81.77</td>\n",
       "      <td id=\"T_692d8_row3_col4\" class=\"data row3 col4\" >66.76</td>\n",
       "    </tr>\n",
       "  </tbody>\n",
       "</table>\n"
      ],
      "text/plain": [
       "<pandas.io.formats.style.Styler at 0x15d6512d0>"
      ]
     },
     "execution_count": 26,
     "metadata": {},
     "output_type": "execute_result"
    }
   ],
   "source": [
    "# create bins to sparate schools by spending\n",
    "spending_bins = [0, 585, 630, 645, 680]\n",
    "labels = [\"<$585\", \"$585-630\", \"$630-645\", \"$645-680\"]\n",
    "\n",
    "# Calculating per student budget and categorizing it using pd.cut\n",
    "per_school_summary['Spending Ranges (Per Student)'] = pd.cut(per_school_summary['Total School Budget'] / per_school_summary['Total Students'], spending_bins, labels=labels)\n",
    "\n",
    "# Group by spending\n",
    "by_spending = per_school_summary.groupby('Spending Ranges (Per Student)')\n",
    "\n",
    "# Calculations for each metric\n",
    "spending_math_scores = by_spending['Average Maths Score'].mean()\n",
    "spending_reading_scores = by_spending['Average Reading Score'].mean()\n",
    "spending_passing_math = by_spending['% Passing Maths'].mean()\n",
    "spending_passing_reading = by_spending['% Passing Reading'].mean()\n",
    "overall_passing_spending = by_spending['% Overall Passing'].mean()\n",
    "\n",
    "# Creating the spending_summary DataFrame\n",
    "spending_summary = pd.DataFrame({\n",
    "    \"Average Maths Score\": spending_math_scores,\n",
    "    \"Average Reading Score\": spending_reading_scores,\n",
    "    \"% Passing Maths\": spending_passing_math,\n",
    "    \"% Passing Reading\": spending_passing_reading,\n",
    "    \"% Overall Passing\": overall_passing_spending\n",
    "})\n",
    "\n",
    "# Formatting\n",
    "spending_summary.style.format({\n",
    "    'Average Maths Score': '{:.2f}', \n",
    "    'Average Reading Score': '{:.2f}', \n",
    "    '% Passing Maths': '{:.2f}', \n",
    "    '% Passing Reading':'{:.2f}', \n",
    "    '% Overall Passing': '{:.2f}'\n",
    "})\n"
   ]
  },
  {
   "cell_type": "markdown",
   "metadata": {},
   "source": [
    "## Scores by School Size"
   ]
  },
  {
   "cell_type": "markdown",
   "metadata": {},
   "source": [
    "* Perform the same operations as above, based on school size."
   ]
  },
  {
   "cell_type": "code",
   "execution_count": 27,
   "metadata": {},
   "outputs": [
    {
     "data": {
      "text/html": [
       "<style type=\"text/css\">\n",
       "</style>\n",
       "<table id=\"T_0c0f1\">\n",
       "  <thead>\n",
       "    <tr>\n",
       "      <th class=\"blank level0\" >&nbsp;</th>\n",
       "      <th id=\"T_0c0f1_level0_col0\" class=\"col_heading level0 col0\" >Average Maths Score</th>\n",
       "      <th id=\"T_0c0f1_level0_col1\" class=\"col_heading level0 col1\" >Average Reading Score</th>\n",
       "      <th id=\"T_0c0f1_level0_col2\" class=\"col_heading level0 col2\" >% Passing Maths</th>\n",
       "      <th id=\"T_0c0f1_level0_col3\" class=\"col_heading level0 col3\" >% Passing Reading</th>\n",
       "      <th id=\"T_0c0f1_level0_col4\" class=\"col_heading level0 col4\" >% Overall Passing</th>\n",
       "    </tr>\n",
       "    <tr>\n",
       "      <th class=\"index_name level0\" >Size Bins</th>\n",
       "      <th class=\"blank col0\" >&nbsp;</th>\n",
       "      <th class=\"blank col1\" >&nbsp;</th>\n",
       "      <th class=\"blank col2\" >&nbsp;</th>\n",
       "      <th class=\"blank col3\" >&nbsp;</th>\n",
       "      <th class=\"blank col4\" >&nbsp;</th>\n",
       "    </tr>\n",
       "  </thead>\n",
       "  <tbody>\n",
       "    <tr>\n",
       "      <th id=\"T_0c0f1_level0_row0\" class=\"row_heading level0 row0\" >Small (<1000)</th>\n",
       "      <td id=\"T_0c0f1_row0_col0\" class=\"data row0 col0\" >72.34</td>\n",
       "      <td id=\"T_0c0f1_row0_col1\" class=\"data row0 col1\" >71.64</td>\n",
       "      <td id=\"T_0c0f1_row0_col2\" class=\"data row0 col2\" >90.81</td>\n",
       "      <td id=\"T_0c0f1_row0_col3\" class=\"data row0 col3\" >87.56</td>\n",
       "      <td id=\"T_0c0f1_row0_col4\" class=\"data row0 col4\" >79.07</td>\n",
       "    </tr>\n",
       "    <tr>\n",
       "      <th id=\"T_0c0f1_level0_row1\" class=\"row_heading level0 row1\" >Medium (1000-2000)</th>\n",
       "      <td id=\"T_0c0f1_row1_col0\" class=\"data row1 col0\" >71.42</td>\n",
       "      <td id=\"T_0c0f1_row1_col1\" class=\"data row1 col1\" >70.72</td>\n",
       "      <td id=\"T_0c0f1_row1_col2\" class=\"data row1 col2\" >89.85</td>\n",
       "      <td id=\"T_0c0f1_row1_col3\" class=\"data row1 col3\" >86.71</td>\n",
       "      <td id=\"T_0c0f1_row1_col4\" class=\"data row1 col4\" >78.04</td>\n",
       "    </tr>\n",
       "    <tr>\n",
       "      <th id=\"T_0c0f1_level0_row2\" class=\"row_heading level0 row2\" >Large (2000-5000)</th>\n",
       "      <td id=\"T_0c0f1_row2_col0\" class=\"data row2 col0\" >69.75</td>\n",
       "      <td id=\"T_0c0f1_row2_col1\" class=\"data row2 col1\" >69.58</td>\n",
       "      <td id=\"T_0c0f1_row2_col2\" class=\"data row2 col2\" >84.25</td>\n",
       "      <td id=\"T_0c0f1_row2_col3\" class=\"data row2 col3\" >83.30</td>\n",
       "      <td id=\"T_0c0f1_row2_col4\" class=\"data row2 col4\" >70.29</td>\n",
       "    </tr>\n",
       "  </tbody>\n",
       "</table>\n"
      ],
      "text/plain": [
       "<pandas.io.formats.style.Styler at 0x15c17cdc0>"
      ]
     },
     "execution_count": 27,
     "metadata": {},
     "output_type": "execute_result"
    }
   ],
   "source": [
    "# create bins to sparate schools by size\n",
    "size_bins = [0, 1000, 2000, 5000]\n",
    "labels = [\"Small (<1000)\", \"Medium (1000-2000)\", \"Large (2000-5000)\"]\n",
    "\n",
    "# Use pd.cut on the \"Total Students\" column of the per_school_summary DataFrame.\n",
    "per_school_summary['Size Bins'] = pd.cut(per_school_summary['Total Students'], size_bins, labels=labels)\n",
    "\n",
    "# Group by size\n",
    "by_size = per_school_summary.groupby('Size Bins')\n",
    "\n",
    "# Calculations\n",
    "average_maths_score = by_size['Average Maths Score'].mean()\n",
    "average_reading_score = by_size['Average Reading Score'].mean()\n",
    "pass_maths_percent = by_size['% Passing Maths'].mean()\n",
    "pass_read_percent = by_size['% Passing Reading'].mean()\n",
    "overall_passing = by_size['% Overall Passing'].mean()\n",
    "\n",
    "# Create size_summary DataFrame\n",
    "size_summary = pd.DataFrame({\n",
    "    \"Average Maths Score\": average_maths_score,\n",
    "    \"Average Reading Score\": average_reading_score,\n",
    "    '% Passing Maths': pass_maths_percent,\n",
    "    '% Passing Reading': pass_read_percent,\n",
    "    '% Overall Passing': overall_passing\n",
    "})\n",
    "\n",
    "# Reorder columns\n",
    "size_summary = size_summary[[\n",
    "    \"Average Maths Score\",\n",
    "    \"Average Reading Score\",\n",
    "    '% Passing Maths',\n",
    "    '% Passing Reading',\n",
    "    '% Overall Passing'\n",
    "]]\n",
    "\n",
    "# Formatting\n",
    "size_summary.style.format({\n",
    "    'Average Maths Score': '{:.2f}', \n",
    "    'Average Reading Score': '{:.2f}', \n",
    "    '% Passing Maths': '{:.2f}', \n",
    "    '% Passing Reading':'{:.2f}', \n",
    "    '% Overall Passing': '{:.2f}'\n",
    "})\n"
   ]
  },
  {
   "cell_type": "markdown",
   "metadata": {},
   "source": [
    "## Scores by School Type"
   ]
  },
  {
   "cell_type": "markdown",
   "metadata": {},
   "source": [
    "* Perform the same operations as above, based on school type"
   ]
  },
  {
   "cell_type": "code",
   "execution_count": 28,
   "metadata": {},
   "outputs": [
    {
     "data": {
      "text/html": [
       "<style type=\"text/css\">\n",
       "</style>\n",
       "<table id=\"T_34943\">\n",
       "  <thead>\n",
       "    <tr>\n",
       "      <th class=\"blank level0\" >&nbsp;</th>\n",
       "      <th id=\"T_34943_level0_col0\" class=\"col_heading level0 col0\" >Average Maths Score</th>\n",
       "      <th id=\"T_34943_level0_col1\" class=\"col_heading level0 col1\" >Average Reading Score</th>\n",
       "      <th id=\"T_34943_level0_col2\" class=\"col_heading level0 col2\" >% Passing Maths</th>\n",
       "      <th id=\"T_34943_level0_col3\" class=\"col_heading level0 col3\" >% Passing Reading</th>\n",
       "      <th id=\"T_34943_level0_col4\" class=\"col_heading level0 col4\" >% Overall Passing</th>\n",
       "    </tr>\n",
       "    <tr>\n",
       "      <th class=\"index_name level0\" >School Type</th>\n",
       "      <th class=\"blank col0\" >&nbsp;</th>\n",
       "      <th class=\"blank col1\" >&nbsp;</th>\n",
       "      <th class=\"blank col2\" >&nbsp;</th>\n",
       "      <th class=\"blank col3\" >&nbsp;</th>\n",
       "      <th class=\"blank col4\" >&nbsp;</th>\n",
       "    </tr>\n",
       "  </thead>\n",
       "  <tbody>\n",
       "    <tr>\n",
       "      <th id=\"T_34943_level0_row0\" class=\"row_heading level0 row0\" >Government</th>\n",
       "      <td id=\"T_34943_row0_col0\" class=\"data row0 col0\" >69.83</td>\n",
       "      <td id=\"T_34943_row0_col1\" class=\"data row0 col1\" >69.68</td>\n",
       "      <td id=\"T_34943_row0_col2\" class=\"data row0 col2\" >84.46</td>\n",
       "      <td id=\"T_34943_row0_col3\" class=\"data row0 col3\" >83.59</td>\n",
       "      <td id=\"T_34943_row0_col4\" class=\"data row0 col4\" >70.70</td>\n",
       "    </tr>\n",
       "    <tr>\n",
       "      <th id=\"T_34943_level0_row1\" class=\"row_heading level0 row1\" >Independent</th>\n",
       "      <td id=\"T_34943_row1_col0\" class=\"data row1 col0\" >71.37</td>\n",
       "      <td id=\"T_34943_row1_col1\" class=\"data row1 col1\" >70.72</td>\n",
       "      <td id=\"T_34943_row1_col2\" class=\"data row1 col2\" >89.20</td>\n",
       "      <td id=\"T_34943_row1_col3\" class=\"data row1 col3\" >86.25</td>\n",
       "      <td id=\"T_34943_row1_col4\" class=\"data row1 col4\" >76.97</td>\n",
       "    </tr>\n",
       "  </tbody>\n",
       "</table>\n"
      ],
      "text/plain": [
       "<pandas.io.formats.style.Styler at 0x15d61edd0>"
      ]
     },
     "execution_count": 28,
     "metadata": {},
     "output_type": "execute_result"
    }
   ],
   "source": [
    "# Group by school type\n",
    "by_type = per_school_summary.groupby('School Type') \n",
    "\n",
    "# Calculations\n",
    "average_maths_score = by_type['Average Maths Score'].mean()\n",
    "average_reading_score = by_type['Average Reading Score'].mean()\n",
    "pass_maths_percent = by_type['% Passing Maths'].mean()\n",
    "pass_read_percent = by_type['% Passing Reading'].mean()\n",
    "overall_passing = by_type['% Overall Passing'].mean()\n",
    "\n",
    "# Create type_summary DataFrame\n",
    "type_summary = pd.DataFrame({\n",
    "    \"Average Maths Score\": average_maths_score,\n",
    "    \"Average Reading Score\": average_reading_score,\n",
    "    '% Passing Maths': pass_maths_percent,\n",
    "    '% Passing Reading': pass_read_percent,\n",
    "    '% Overall Passing': overall_passing\n",
    "})\n",
    "\n",
    "# Reorder columns\n",
    "type_summary = type_summary[[\n",
    "    \"Average Maths Score\",\n",
    "    \"Average Reading Score\",\n",
    "    '% Passing Maths',\n",
    "    '% Passing Reading',\n",
    "    '% Overall Passing'\n",
    "]]\n",
    "\n",
    "# Formatting\n",
    "type_summary.style.format({\n",
    "    'Average Maths Score': '{:.2f}', \n",
    "    'Average Reading Score': '{:.2f}', \n",
    "    '% Passing Maths': '{:.2f}', \n",
    "    '% Passing Reading':'{:.2f}', \n",
    "    '% Overall Passing': '{:.2f}'\n",
    "})\n"
   ]
  },
  {
   "cell_type": "code",
   "execution_count": null,
   "metadata": {},
   "outputs": [],
   "source": []
  }
 ],
 "metadata": {
  "anaconda-cloud": {},
  "kernel_info": {
   "name": "python3"
  },
  "kernelspec": {
   "display_name": "Python 3 (ipykernel)",
   "language": "python",
   "name": "python3"
  },
  "language_info": {
   "codemirror_mode": {
    "name": "ipython",
    "version": 3
   },
   "file_extension": ".py",
   "mimetype": "text/x-python",
   "name": "python",
   "nbconvert_exporter": "python",
   "pygments_lexer": "ipython3",
   "version": "3.10.12"
  },
  "latex_envs": {
   "LaTeX_envs_menu_present": true,
   "autoclose": false,
   "autocomplete": true,
   "bibliofile": "biblio.bib",
   "cite_by": "apalike",
   "current_citInitial": 1,
   "eqLabelWithNumbers": true,
   "eqNumInitial": 1,
   "hotkeys": {
    "equation": "Ctrl-E",
    "itemize": "Ctrl-I"
   },
   "labels_anchors": false,
   "latex_user_defs": false,
   "report_style_numbering": false,
   "user_envs_cfg": false
  },
  "nteract": {
   "version": "0.8.4"
  }
 },
 "nbformat": 4,
 "nbformat_minor": 1
}
